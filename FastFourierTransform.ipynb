{
  "nbformat": 4,
  "nbformat_minor": 0,
  "metadata": {
    "colab": {
      "provenance": []
    },
    "kernelspec": {
      "name": "python3",
      "display_name": "Python 3"
    },
    "language_info": {
      "name": "python"
    }
  },
  "cells": [
    {
      "cell_type": "markdown",
      "source": [
        "# Transform Methods and Option Pricing"
      ],
      "metadata": {
        "id": "XH62_UkHTTVO"
      }
    },
    {
      "cell_type": "markdown",
      "source": [
        "Transform methods provide a computationally effective tool for the alternative solution of modeling option payoffs with an analytical stochastic process. In statistical analysis deriving the distribution function of random variable is necessary. If a random variable allows for a probability density function (PDF) then the characteristic function is the Fourier tranform of the PDF.\n",
        "\n",
        "The Inverson Theorem is the Fundamental Theorem of Characteristic Functions as it links the characteristic function back to the probability distribution utilizing an inverse Fourier transform.\n",
        "\n"
      ],
      "metadata": {
        "id": "RZZGrMFBTPsa"
      }
    },
    {
      "cell_type": "markdown",
      "source": [
        "Definition:\n",
        "\n",
        "The characteristic function $ϕ(ν)$ of a distribution, $X$, is the Fourier transform of the probability density function $f(x)$,\n",
        "\n",
        "$$\\phi (\\nu) = \\int_{-\\infty}^{\\infty} {e^{iν x}}f(x) \\, dx \\\\[1em]$$\n",
        "\n"
      ],
      "metadata": {
        "id": "3fEPeS31Cwvr"
      }
    },
    {
      "cell_type": "markdown",
      "source": [
        "$$= \\mathbb{E} \\left({e^{iν x}} \\right)$$"
      ],
      "metadata": {
        "id": "R-rfP8VJgdj5"
      }
    },
    {
      "cell_type": "markdown",
      "source": [
        "* Having  $\\phi (ν) $, the function $f(x)$ can be recovered via Inverse Fourier Transform,\n",
        "\n",
        "$$f(x) =\\frac{1}{2\\pi} \\int_{-\\infty}^{\\infty} {e^{-iν x}} \\phi(ν) dν \\\\[1em]$$"
      ],
      "metadata": {
        "id": "HjS7GKduT9FG"
      }
    },
    {
      "cell_type": "markdown",
      "source": [
        "##Carr and Madan Approach"
      ],
      "metadata": {
        "id": "UDpDmIU28mGL"
      }
    },
    {
      "cell_type": "markdown",
      "source": [
        "Carr and Madan (1999) method for the fast fourier transform (FFT) algorithm to price multiple options at a specific strike. First is to set-up the Fourier transfom of a modified call option price with respect to the logarithmic strike $k$ and recover the PDF from the characteristic function by taking the inverse Fourier transform. Pricing the option can be calculated by integrating the product of the payoff with the PDF."
      ],
      "metadata": {
        "id": "GrzgMpkwdZL8"
      }
    },
    {
      "cell_type": "markdown",
      "source": [
        "Set-up:\n",
        "\n",
        "* $S_{T}$: $\\,$ $T$-time price\n",
        "\n",
        "* $f(S_{T}|S_{0})$: $\\,$ density of $S_{T}$\n",
        "\n",
        "* $q(s_{t}|s_{0})$: $\\,$ density of $s_{T} = {\\ln}(S_{T})$\n",
        "\n",
        "* $k = {\\ln}(K)$: $\\,$ log of the strike price\n",
        "\n",
        "* $\\phi (ν)$: $\\,$ CF of log stock price process\n",
        "\n",
        "* $C_{T}(k)$: $\\,$ price of a $T$-maurity call with $K={e^{k}}$"
      ],
      "metadata": {
        "id": "0OYyBduAIjhg"
      }
    },
    {
      "cell_type": "markdown",
      "source": [
        "Formulation:\n",
        "* The European call option price $C_{T}(k)$ can be expressed as,\n",
        "\n",
        "\n",
        "\n",
        "$${e^{-rT}}\\mathbb{E_{0}} [(S_{T}-K)^+] =  {e^{-rT}}  \\int_{K}^{\\infty} (S_{T}-K) f \\,(S_{T}) \\, dS_{T} $$"
      ],
      "metadata": {
        "id": "unCPftuaHpIb"
      }
    },
    {
      "cell_type": "markdown",
      "source": [
        "* Change of variables into the log space,\n",
        "\n",
        "$$ = {e^{-rT}}  \\int_{K}^{\\infty}  \\,(e^{s_{T}}-e^{k}) \\, q \\, (s_{T})\\, ds_{T} $$"
      ],
      "metadata": {
        "id": "pimyRPbhLxCi"
      }
    },
    {
      "cell_type": "markdown",
      "source": [
        "$$ = C_{T}(k) $$"
      ],
      "metadata": {
        "id": "Ca-hlamjMts_"
      }
    },
    {
      "cell_type": "markdown",
      "source": [
        "From the martingale property, $\\space \\mathbb{E^{ℚ}}[S_{T}]=S_{0}e^{rT}$ it is known that, $\\space \\lim_{k \\to \\infty}C(k) = S_{0}$ does not converge to zero. This intergrability condition means the Fourier transform does not exist, to fix this an exponential damping factor $\\space e^{αk} \\space$ with $\\space α>0$ makes it possible to integrate $C(k)$."
      ],
      "metadata": {
        "id": "GsPNDtHaCeBd"
      }
    },
    {
      "cell_type": "markdown",
      "source": [
        "Modified Call and its Fourier Transform:\n",
        "\n",
        "* Define, $ c_{T}(k) = e^{{αk}}C_{T}(k) $. Let $ \\Psi_{T}(ν) $ be its Fourier transform,"
      ],
      "metadata": {
        "id": "1mq2yT96NdFS"
      }
    },
    {
      "cell_type": "markdown",
      "source": [
        "$$ \\Psi_{T}(\\nu) = \\int_{-\\infty}^{\\infty} e^{ivk}c_{T}  (k) \\space dk $$"
      ],
      "metadata": {
        "id": "DwdUD9GCTGWP"
      }
    },
    {
      "cell_type": "markdown",
      "source": [
        "$$ \\Psi_{T}(\\nu) = \\int_{-\\infty}^{\\infty} e^{ivk}e^{αk}C_{T} (k) \\space dk $$"
      ],
      "metadata": {
        "id": "NpnpsiRdUtMs"
      }
    },
    {
      "cell_type": "markdown",
      "source": [
        "* Now use the inverse Fourier transform to get,\n",
        "\n",
        "$$ C_{T}(k) = \\frac{e^{-αk}}{2\\pi} \\int_{-\\infty}^{\\infty} \\, e^{-ivk} \\, {\\Psi_{T}}(ν) \\, dν $$"
      ],
      "metadata": {
        "id": "Jb7JiTELVhJC"
      }
    },
    {
      "cell_type": "markdown",
      "source": [
        "The goal is to obtain $ {\\Psi_{T}}(\\nu) $ analytically. First we will evaluate by switching order of integration,\n",
        "\n",
        "$$ \\Psi_{T}(ν) = \\int_{-\\infty}^{\\infty} e^{ivk}c_{T} (k) \\space dk $$\n",
        "\n",
        "\n"
      ],
      "metadata": {
        "id": "3D8z9Hudf4bp"
      }
    },
    {
      "cell_type": "markdown",
      "source": [
        "Substitution: $ e^{α k} $ and $ \\Bigl ( e^{-r T} \\int_{k}^{\\infty} (e^{s}-e^{k}) q  (s)  ds \\Bigl )$ for $ c_{T} $ and $ (k)$ respectively,\n",
        "\n"
      ],
      "metadata": {
        "id": "C4mDmdriSpsb"
      }
    },
    {
      "cell_type": "markdown",
      "source": [
        "$$ = \\int_{-\\infty}^{\\infty} e^{ivk} e^{α k} \\Bigl ( e^{-r T} \\int_{k}^{\\infty} (e^{s}-e^{k}) q  (s)  ds \\Bigl ) dk $$"
      ],
      "metadata": {
        "id": "fhvw5lrKf8h_"
      }
    },
    {
      "cell_type": "markdown",
      "source": [
        "Utilize the Fubini's Theorem to further evaluate, which states in principle that if a function of two variables is absolutely integrable over a region, then its iterated integrals and its double integral over the region are all equal. Now $ q(s) $ does not depend on $ k $, so we can now do the integration with respect to $ k $,"
      ],
      "metadata": {
        "id": "eV_PraUke4ag"
      }
    },
    {
      "cell_type": "markdown",
      "source": [
        "\n",
        "\n",
        "$$ = e^{-r T} \\int_{-\\infty}^{\\infty} \\int_{-\\infty}^{s} e^{(α+iν)k} (e^{s}-e^{k}) \\space q (s) \\space dk ds $$"
      ],
      "metadata": {
        "id": "IZrMK8MQXpsg"
      }
    },
    {
      "cell_type": "markdown",
      "source": [
        "$$ = e^{-r T} \\int_{-\\infty}^{\\infty} q(s) \\Bigl (\\int_{-\\infty}^{s} e^{(α+iν)k} (e^{s}-e^{k}) dk \\Bigl )  $$"
      ],
      "metadata": {
        "id": "digD_xSDnGcJ"
      }
    },
    {
      "cell_type": "markdown",
      "source": [
        "$$ = e^{s} \\frac{e^{(α+iν)k}}{(α+iν)} \\Big|_{-\\infty}^{s} - \\frac{e^{(α+iν+1)k}}{(α+iν+1)} \\Big|_{-\\infty}^{s} $$"
      ],
      "metadata": {
        "id": "ZsGfl7hLXpwX"
      }
    },
    {
      "cell_type": "markdown",
      "source": [
        "$$ = e^{s} \\frac{e^{(α+iν)s}}{(α+iν)} - \\frac{e^{(α+iν+1)s}}{(α+iν+1)} $$"
      ],
      "metadata": {
        "id": "sB9ImiOJVIB0"
      }
    },
    {
      "cell_type": "markdown",
      "source": [
        "$$ \\Psi_{T}(ν) = \\frac{e^{(α+iν+1)s}}{(α+iν)(α+iν+1)} $$"
      ],
      "metadata": {
        "id": "a1RbpVn6VgBw"
      }
    },
    {
      "cell_type": "markdown",
      "source": [
        "Take $\\Psi_{T}(ν)$ with respect to $ϕ(ν)$,\n",
        "\n",
        "\n",
        "$$ \\Psi_{T}(ν) = e^{-rT} \\int_{-\\infty}^{\\infty} q(s) \\frac{e^{(α+iν+1)s}}{(α+iν)(α+iν+1)} ds$$"
      ],
      "metadata": {
        "id": "9_dCbReskEaF"
      }
    },
    {
      "cell_type": "markdown",
      "source": [
        "$$= \\frac{e^{-rT}}{(α+iν)(α+iν+1)} \\int_{-\\infty}^{\\infty} e^{(\\alpha+iν+1)}q(s)ds $$"
      ],
      "metadata": {
        "id": "UHPXABBJ5dOz"
      }
    },
    {
      "cell_type": "markdown",
      "source": [
        "$$ = \\frac{e^{-rT}}{(α+iν)(α+iν+1)} ϕ(ν-(α+1)i) $$"
      ],
      "metadata": {
        "id": "gJOfOVdzllnQ"
      }
    },
    {
      "cell_type": "markdown",
      "source": [
        "* We know the characteristic function of the log of the stock price, $ ϕ(ν) = \\int {e^{iνs}}q(s)ds $, we see below that this characteristic function is simply being evaluated at, $(\\nu-(α+1)i)$\n",
        "\n",
        "* The fourier transform, $ \\Psi_{T}(ν)$, of the modified call can be known analytically as long as you have the characteristic function of the log of the stock price, $ϕ(ν)$"
      ],
      "metadata": {
        "id": "59ysry_ww9GZ"
      }
    },
    {
      "cell_type": "markdown",
      "source": [
        "Recall the inverse Fourier transform multiplied by the recriprocal of the exponential factor yields to the undamped call prices,\n",
        "\n"
      ],
      "metadata": {
        "id": "cWUHUOwn5dTc"
      }
    },
    {
      "cell_type": "markdown",
      "source": [
        "$$ C_{T}(k) = \\frac{e^{-αk}}{2π} \\int_{-\\infty}^{\\infty} e^{-ivk}\\Psi_{T}(ν)dν$$"
      ],
      "metadata": {
        "id": "cW2K3lMamcHK"
      }
    },
    {
      "cell_type": "markdown",
      "source": [
        "Where,\n",
        "\n",
        "$$ \\Psi_{T}(ν) = \\frac{e^{-rT}}{(α+iν)(α+iν+1)} ϕ(ν-(α+1)i)$$"
      ],
      "metadata": {
        "id": "SFsCgtTi1JmP"
      }
    },
    {
      "cell_type": "markdown",
      "source": [
        "## Integral Evaluation ##"
      ],
      "metadata": {
        "id": "vTCmsbHH5G08"
      }
    },
    {
      "cell_type": "markdown",
      "source": [
        "Given that $ϕ(ν)$, an inverse Fourier transform multiplied by the reciprocal of the exponential factor gives us the undamped call prices. Next we need to deal with a definite integral, as opposed to going to infinity we will go to B. We can go from, $ \\frac{1}{2π} \\int_{-\\infty}^{+\\infty} $ to $ \\frac{1}{π} \\int_{0}^{\\infty} $ since we have an even function.\n"
      ],
      "metadata": {
        "id": "UCwr1eLTboFD"
      }
    },
    {
      "cell_type": "markdown",
      "source": [
        "$$ C_{T}(k) = \\frac{e^{-αk}}{2π} \\int_{-\\infty}^{\\infty} e^{-ivk}\\Psi_{T}(ν)dν$$"
      ],
      "metadata": {
        "id": "frga-RBsbtx-"
      }
    },
    {
      "cell_type": "markdown",
      "source": [
        "$$ C_{T}(k) = \\frac{e^{-αk}}{π} \\int_{0}^{\\infty} e^{-ivk}\\Psi_{T}(ν)dν$$"
      ],
      "metadata": {
        "id": "27q6PFZPQwbi"
      }
    },
    {
      "cell_type": "markdown",
      "source": [
        "Giving us,\n",
        "\n",
        "$$ ≈ \\frac{e^{-αk}}{π} \\int_{0}^{B} e^{-ivk}\\Psi_{T}(ν)dν $$"
      ],
      "metadata": {
        "id": "dnVY5cN5ZUOP"
      }
    },
    {
      "cell_type": "markdown",
      "source": [
        "Set the number of summands for the integral approximation $N$ which will be to the power of 2, $N=2^n$, to utilize the computational efficiency of the FFT and the size of $η$ which determines the grid spacing within the Fourier domain. we set $N$ equal sub-intervals of length $ η $ where,\n",
        "\n",
        "$$ \\eta = \\frac{B}{N} $$\n",
        "\n",
        "\n"
      ],
      "metadata": {
        "id": "uyCIQ7Iub21b"
      }
    },
    {
      "cell_type": "markdown",
      "source": [
        "The distance between the grid points going from $0$ to $B$,\n"
      ],
      "metadata": {
        "id": "l0utUuHGkXVC"
      }
    },
    {
      "cell_type": "markdown",
      "source": [
        "$$ ν_{j} = (j-1)η $$ for $$ j = 1,...,N+1 $$"
      ],
      "metadata": {
        "id": "t_j_q7EPgQDT"
      }
    },
    {
      "cell_type": "markdown",
      "source": [
        "Going to $N$ sub-integrals,"
      ],
      "metadata": {
        "id": "YNRdRH8XlU0M"
      }
    },
    {
      "cell_type": "markdown",
      "source": [
        "$$ C_{T}(k) \\approx \\frac{e^{-αk}}{π} \\sum_{j=1}^{N} \\int_{ν_{j}}^{ν_{j+1}} e^{-ivk}\\Psi_{T}(ν)dν $$"
      ],
      "metadata": {
        "id": "dzuvZvNnexoB"
      }
    },
    {
      "cell_type": "markdown",
      "source": [
        "Utilizing the Trapezoidal Rule approximate each sub-integral,"
      ],
      "metadata": {
        "id": "DlbUZmRIliQR"
      }
    },
    {
      "cell_type": "markdown",
      "source": [
        "$$ \\int_{ν_{j}}^{ν_{j+1}} e^{-ivk}\\Psi_{T}(ν)dν \\space ≈ \\space \\frac{η}{2} \\Bigl (e^{-iν_{j}k} Ψ_{T}(\\nu_{j})+e^{-iν_{j+1}k} Ψ_{T}(ν_{j}+1) \\Bigl) $$"
      ],
      "metadata": {
        "id": "Or_A8PLKBHPi"
      }
    },
    {
      "cell_type": "markdown",
      "source": [
        "Substituting to obtain,"
      ],
      "metadata": {
        "id": "GP_CkAf5ernh"
      }
    },
    {
      "cell_type": "markdown",
      "source": [
        "$$ C_{T}(k) \\approx \\frac{e^{-αk}}{π} \\sum_{j=1}^{N} \\int_{ν_{j}}^{ν_{j+1}} e^{-ivk}\\Psi_{T}(ν)dν   $$"
      ],
      "metadata": {
        "id": "rqXOhRombKxd"
      }
    },
    {
      "cell_type": "markdown",
      "source": [
        "$$ C_{T}(k) \\approx \\frac{e^{-αk}}{π} \\sum_{j=1}^{N} \\space \\frac{η}{2} \\Bigl (e^{-iν_{j}k} Ψ_{T}(\\nu_{j})+e^{-iν_{j+1}k} Ψ_{T}(ν_{j}+1) \\Bigl) $$"
      ],
      "metadata": {
        "id": "MVv6hNsec_21"
      }
    },
    {
      "cell_type": "markdown",
      "source": [
        "We now have a Call Price for a Specific Strike,"
      ],
      "metadata": {
        "id": "vUcfjsXwd8tf"
      }
    },
    {
      "cell_type": "markdown",
      "source": [
        "$$ C_{T}(k) \\approx \\frac{e^{-αk}}{π} \\sum_{j=1}^{N} e^{-iν_{j}k} Ψ_{T}\\space(ν_{j})\\space w_{j}$$"
      ],
      "metadata": {
        "id": "GoXIIXdieIOK"
      }
    },
    {
      "cell_type": "markdown",
      "source": [
        "Where,"
      ],
      "metadata": {
        "id": "7X8ZUeIcd82D"
      }
    },
    {
      "cell_type": "markdown",
      "source": [
        "$$ w_{j} = \\begin{Bmatrix} \\frac{1}{2}η & j=1\\\\ η & \\text{otherwise} \\end{Bmatrix} $$"
      ],
      "metadata": {
        "id": "AKabtm0PetV5"
      }
    },
    {
      "cell_type": "markdown",
      "source": [
        "## Fast Fourier Transform"
      ],
      "metadata": {
        "id": "dOylzj5TqK6G"
      }
    },
    {
      "cell_type": "markdown",
      "source": [
        "Discrete Fourier Transforms can be calculated with Fast Fourier Transform methods in $N Log_{2} N$ time complexity and computes an entire range of option prices for multiple strikes. Below walks through the set-up and understanding the parameters for the algorithm."
      ],
      "metadata": {
        "id": "b9EqyuZS4nxU"
      }
    },
    {
      "cell_type": "markdown",
      "source": [
        "For, $$ m = 1,...,N $$\n"
      ],
      "metadata": {
        "id": "VPVrWjudbn6o"
      }
    },
    {
      "cell_type": "markdown",
      "source": [
        "$$ C_{T}(k_{m}) \\approx \\frac{e^{-αk_{m}}}{π} \\sum_{j=1}^{N} e^{-iν_{j}k_{m}} Ψ_{T}\\space(ν_{j})\\space w_{j}$$"
      ],
      "metadata": {
        "id": "GrHFQBGAbvXz"
      }
    },
    {
      "cell_type": "markdown",
      "source": [
        "$$ C_{T}(k_{m}) \\approx \\frac{e^{-αk_{m}}}{π} \\sum_{j=1}^{N} e^{-i(j-1)η(m-1)Δk} e^{-iβv_{j}} Ψ _{T}(\\nu_{j})w_{j} $$"
      ],
      "metadata": {
        "id": "_pS7SwCpbvb8"
      }
    },
    {
      "cell_type": "markdown",
      "source": [
        "We can write $ k_{m} = β+(m-1)Δk  $,\n",
        "* $β$, the starting point for the first strike price. Chosen by the user\n",
        "* $Δk$, the stepping size for the log space of the strikes\n",
        "* for simplicity we will write $Δk$, as lambda, $λ$"
      ],
      "metadata": {
        "id": "isMIzi1RehYI"
      }
    },
    {
      "cell_type": "markdown",
      "source": [
        "$$ C_{T}(k_{m}) \\approx \\frac{e^{-αk_{m}}}{π} \\sum_{j=1}^{N} e^{-i(j-1)η(m-1)Δk} e^{-iβv_{j}} Ψ _{T}(v_{j})w_{j} $$"
      ],
      "metadata": {
        "id": "_XVU83_Rep8C"
      }
    },
    {
      "cell_type": "markdown",
      "source": [
        "For simplicity we will call, $ \\space e^{-iβv_{j}} Ψ _{T}(v_{j})w_{j} \\space $ as, $ \\space x(j) $"
      ],
      "metadata": {
        "id": "D-nFeNebyoRP"
      }
    },
    {
      "cell_type": "markdown",
      "source": [
        "$$ C_{T}(k_{m}) \\approx \\frac{e^{-αk_{m}}}{π} \\sum_{j=1}^{N} e^{-iλη (j-1)(m-1)} x(j)$$"
      ],
      "metadata": {
        "id": "XHxQ6mzSlGqf"
      }
    },
    {
      "cell_type": "markdown",
      "source": [
        "FFT Provides an efficient algorithm for calculating the following sum. Set $λη = \\frac{2π}{N} $,"
      ],
      "metadata": {
        "id": "3Pzu1jZIbvfA"
      }
    },
    {
      "cell_type": "markdown",
      "source": [
        "$$ ω(m) = \\sum_{j=1}^{N} e^{-i \\frac{2π}{N} (j-1)(m-1)} x(j) $$"
      ],
      "metadata": {
        "id": "nDd2rMXIlkjZ"
      }
    },
    {
      "cell_type": "markdown",
      "source": [
        "For, $$ m = 1,...,N $$"
      ],
      "metadata": {
        "id": "F6fgaf2pmcpk"
      }
    },
    {
      "cell_type": "markdown",
      "source": [
        "## Implementation of FFT"
      ],
      "metadata": {
        "id": "E5Yt2aIa1IQ8"
      }
    },
    {
      "cell_type": "markdown",
      "source": [
        "Having $ ϕ(\\nu) $, the characteristic function of the log of the stock price process,\n",
        "\n",
        "Chose:\n",
        "  * $η$\n",
        "  * $N=2^n$\n",
        "  * $β$\n",
        "\n",
        "Calculate:\n",
        "  * $λ=\\frac{2π}{Nη}$\n",
        "  * $ν_{j}=(j-1)η$\n",
        "  * set $α>0$\n",
        "\n"
      ],
      "metadata": {
        "id": "qkVYXLF91N6k"
      }
    },
    {
      "cell_type": "markdown",
      "source": [
        "Form vector $x$,"
      ],
      "metadata": {
        "id": "vw6G7Yu1pkDE"
      }
    },
    {
      "cell_type": "markdown",
      "source": [
        "$$ x = \\begin{pmatrix} x_{1} \\\\ x_{2} \\\\ \\vdots \\\\ x_{N} \\end{pmatrix} = \\begin{pmatrix} \\frac{η}{2}\\frac{e^{-rT}}{(α+iν_{1})(α+iν_{1}+1)} e^{-iβv_{1}} \\phi(ν_{1}-(α+1)i) \\\\ \\eta \\frac{e^{-rT}}{(α+iν_{2})(α+iν_{2}+1)} e^{-iβv_{2}} \\phi(ν_{2}-(α+1)i) \\\\ \\vdots \\\\ \\eta \\frac{e^{-rT}}{(α+iν_{N})(α+iν_{N}+1)} e^{-iβv_{N}} \\phi(ν_{N}-(α+1)i) \\end{pmatrix}  $$"
      ],
      "metadata": {
        "id": "wRbvj5Yk1OAc"
      }
    },
    {
      "cell_type": "markdown",
      "source": [
        "Now pass this vector through the FFT routine,"
      ],
      "metadata": {
        "id": "GQULh9wB1OGs"
      }
    },
    {
      "cell_type": "markdown",
      "source": [
        "$$ y = \\text{fft}(x) $$"
      ],
      "metadata": {
        "id": "YNQ91HKKQng0"
      }
    },
    {
      "cell_type": "markdown",
      "source": [
        "Call prices at strike $k_{m}$ for $m=1,...,N$"
      ],
      "metadata": {
        "id": "lk-lVpUrQnjI"
      }
    },
    {
      "cell_type": "markdown",
      "source": [
        "$$ \\begin{pmatrix} C_{T}(k_{1}) \\\\ C_{T}(k_{2}) \\\\ \\vdots \\\\ C_{T}(k_{N}) \\end{pmatrix} = \\begin{pmatrix} \\frac{e^{-αk_{1}}}{π} \\text{Re}(y_{1})\\\\ \\frac{e^{-αk_{2}}}{π} \\text{Re}(y_{2})\\\\ \\vdots \\\\\n",
        "\\frac{e^{-αk_{N}}}{π} \\text{Re}(y_{N})\\\\ \\end{pmatrix}  $$"
      ],
      "metadata": {
        "id": "DSkvf3EAQnlv"
      }
    },
    {
      "cell_type": "markdown",
      "source": [
        "Where, $$k_{m} = β+(m-1)λ$$"
      ],
      "metadata": {
        "id": "MOlfpBAtTtGi"
      }
    },
    {
      "cell_type": "markdown",
      "source": [
        "This demonstrates the output vector of $N$ call options for the corresponding strikes, maturity being fixed."
      ],
      "metadata": {
        "id": "1z5Bknq7mi0S"
      }
    },
    {
      "cell_type": "markdown",
      "source": [
        "\n",
        "## Recap and choice of parameters"
      ],
      "metadata": {
        "id": "iYfPVUtlPl6o"
      }
    },
    {
      "cell_type": "markdown",
      "source": [
        "$$ k_{m} = β+(m-1)λ \\space \\space \\text{for} \\space m=1,...,N $$"
      ],
      "metadata": {
        "id": "uM_3AeLVneGn"
      }
    },
    {
      "cell_type": "markdown",
      "source": [
        "Beta is the very first strike. We have two common choices for Beta,\n",
        "\n",
        "* Middle of the range corresponds to at-the-money: set $β=ln(S_{0})-\\frac{N}{2}λ$\n",
        "\n",
        "* The first call corresponds to a specific strike $K$, set $β=ln(K)$"
      ],
      "metadata": {
        "id": "uSVmapMV1cIa"
      }
    },
    {
      "cell_type": "markdown",
      "source": [
        "Sources:\n",
        "* [quant.opengamma.io/FourierPricing.pdf](quant.opengamma.io/FourierPricing.pdf)\n",
        "* https://pfadintegral.com/articles/option-pricing-formulae-using-fourier-transform/\n",
        "* [Computational Methods in Pricing and Model Calibration, Columbia](https://plus.columbia.edu/content/computational-methods-pricing-and-model-calibration)\n"
      ],
      "metadata": {
        "id": "yqrTpXIvjbW7"
      }
    }
  ]
}