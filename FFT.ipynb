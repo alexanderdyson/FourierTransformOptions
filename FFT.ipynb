{
  "nbformat": 4,
  "nbformat_minor": 0,
  "metadata": {
    "colab": {
      "provenance": []
    },
    "kernelspec": {
      "name": "python3",
      "display_name": "Python 3"
    },
    "language_info": {
      "name": "python"
    }
  },
  "cells": [
    {
      "cell_type": "code",
      "execution_count": null,
      "metadata": {
        "id": "UzTTdvZqUiqT"
      },
      "outputs": [],
      "source": [
        "import numpy as np\n",
        "from time import time"
      ]
    },
    {
      "cell_type": "markdown",
      "source": [
        "The following function computes the log normal density as we assume that the stock price follows a lognormal distribution,"
      ],
      "metadata": {
        "id": "5X1Yw9T-U0G8"
      }
    },
    {
      "cell_type": "code",
      "source": [
        "def logNormal(S, r, q, sig, S0, T):\n",
        "    # Computes the log normal density function for the stock price\n",
        "    f = np.exp(-0.5*((np.log(S/S0)-(r-q-sig**2/2)*T)/(sig*np.sqrt(T)))**2) / (sig*S*np.sqrt(2*np.pi*T))\n",
        "    return f"
      ],
      "metadata": {
        "id": "IuuxGCB-UzEe"
      },
      "execution_count": null,
      "outputs": []
    },
    {
      "cell_type": "markdown",
      "source": [
        "Note: when evaluating the function at  $S=0.0$ , the theoretical value should be  $f=0.0$ , but the function above will give you a warning and a NaN value. Instead this can be evaluated at  $S=ϵ$ , where  ϵ  is a small positive number such as, $1e-8$."
      ],
      "metadata": {
        "id": "BTrlthkqU7xu"
      }
    },
    {
      "cell_type": "markdown",
      "source": [
        "With the following parameters we can price a European put:"
      ],
      "metadata": {
        "id": "oZNMAtb6VAQX"
      }
    },
    {
      "cell_type": "code",
      "source": [
        "# Parameters for put\n",
        "S0 = 100\n",
        "K = 90\n",
        "r = 0.04\n",
        "q = 0.02\n",
        "sig = 0.25\n",
        "T = 1.0"
      ],
      "metadata": {
        "id": "9slmV0i8U8l6"
      },
      "execution_count": null,
      "outputs": []
    },
    {
      "cell_type": "markdown",
      "source": [
        "This first example demonstrates a numerical integration method to price the put. This function takes the above parameters as arguments and a positive integer  N  which is the number of grid points:"
      ],
      "metadata": {
        "id": "eorvonF4VIr6"
      }
    },
    {
      "cell_type": "code",
      "source": [
        "def numerical_integral_put(r, q, S0, K, sig, T, N):\n",
        "    ''' Numerical integration for puts. '''\n",
        "\n",
        "    # spacing of the grid\n",
        "    eta = 0.0\n",
        "    # price of the put\n",
        "    priceP = 0.0\n",
        "\n",
        "    # discount factor\n",
        "    df = np.exp(-r * T)\n",
        "    # step size\n",
        "    eta = 1. * K / N\n",
        "    # vector of stock price\n",
        "    S = np.arange(0, N) * eta\n",
        "    # avoid numerical issues\n",
        "    S[0] = 1e-8\n",
        "    # vector of weights\n",
        "    w = np.ones(N) * eta\n",
        "    w[0] = eta / 2\n",
        "    # lognormal densities\n",
        "    logN = np.zeros(N)\n",
        "    logN = logNormal(S, r, q, sig, S0, T)\n",
        "    # numerical integral\n",
        "    sumP = np.sum((K - S) * logN * w)\n",
        "    # price put\n",
        "    priceP = df * sumP\n",
        "\n",
        "    return eta, priceP"
      ],
      "metadata": {
        "id": "0482GvI8VK3_"
      },
      "execution_count": null,
      "outputs": []
    },
    {
      "cell_type": "markdown",
      "source": [
        "Use the previous function to price the put for different values of $ N=2n,  n=1,2,…,15$"
      ],
      "metadata": {
        "id": "O0fFbnIZVQcF"
      }
    },
    {
      "cell_type": "code",
      "source": [
        "# vector with all values of n\n",
        "n_min = 1\n",
        "n_max = 15\n",
        "n_vec = np.arange(n_min, n_max + 1, dtype=int)"
      ],
      "metadata": {
        "id": "Pc3PIS-_VRMN"
      },
      "execution_count": null,
      "outputs": []
    },
    {
      "cell_type": "code",
      "source": [
        "# compute the numerical integration for each value of n\n",
        "start_time = time()\n",
        "# will store the results in vectors\n",
        "eta_vec = np.zeros(n_max)\n",
        "put_vec = np.zeros(n_max)\n",
        "for i in range(n_max):\n",
        "    N = 2** n_vec[i]\n",
        "\n",
        "    [eta_vec[i], put_vec[i]] = numerical_integral_put(r, q, S0, K, sig, T, N)\n",
        "\n",
        "end_time = time()\n",
        "print('Elapsed time (seconds): ' + str(end_time - start_time))"
      ],
      "metadata": {
        "colab": {
          "base_uri": "https://localhost:8080/"
        },
        "id": "KZl1jIpOVUPL",
        "outputId": "a20519f6-cb72-4e8c-98f2-4f34bddf6273"
      },
      "execution_count": null,
      "outputs": [
        {
          "output_type": "stream",
          "name": "stdout",
          "text": [
            "Elapsed time (seconds): 0.008443355560302734\n"
          ]
        }
      ]
    },
    {
      "cell_type": "code",
      "source": [
        "# print a table with the numerical integration for each value of n\n",
        "print('N\\teta\\tP_0')\n",
        "for i in range(n_max):\n",
        "    print('2^%i\\t%.3f\\t%.4f' % (n_vec[i], eta_vec[i], put_vec[i]))"
      ],
      "metadata": {
        "colab": {
          "base_uri": "https://localhost:8080/"
        },
        "id": "rTHBtQqbVUVN",
        "outputId": "406bc507-691f-4bf7-ebe6-ccb007b7d614"
      },
      "execution_count": null,
      "outputs": [
        {
          "output_type": "stream",
          "name": "stdout",
          "text": [
            "N\teta\tP_0\n",
            "2^1\t45.000\t0.4847\n",
            "2^2\t22.500\t3.8251\n",
            "2^3\t11.250\t4.3546\n",
            "2^4\t5.625\t4.4822\n",
            "2^5\t2.812\t4.5137\n",
            "2^6\t1.406\t4.5216\n",
            "2^7\t0.703\t4.5236\n",
            "2^8\t0.352\t4.5241\n",
            "2^9\t0.176\t4.5242\n",
            "2^10\t0.088\t4.5242\n",
            "2^11\t0.044\t4.5242\n",
            "2^12\t0.022\t4.5242\n",
            "2^13\t0.011\t4.5242\n",
            "2^14\t0.005\t4.5242\n",
            "2^15\t0.003\t4.5242\n"
          ]
        }
      ]
    },
    {
      "cell_type": "markdown",
      "source": [
        "## Black-Merton-Scholes (BMS) Model\n",
        "\n",
        "A formula that assumes that an assets price follows Brownian motion but the asset's price volatility is constant,"
      ],
      "metadata": {
        "id": "rt7M8iTnVl-Q"
      }
    },
    {
      "cell_type": "markdown",
      "source": [
        "$$ dS_{t} = (r-q)S_{t}dt + σS_{t}dW_{t} $$"
      ],
      "metadata": {
        "id": "IZw6ms40V3RE"
      }
    },
    {
      "cell_type": "markdown",
      "source": [
        "Characteristic Function of the log of the stock price,\n",
        "\n",
        "$$ \\phi(ν) = e^{i \\bigl(ln \\ S_{0} + (r-q-{\\frac{σ^{2}}{2}})T\\bigl)ν-{\\frac{σ^{2}ν^{2}}{2}T}} $$"
      ],
      "metadata": {
        "id": "aKyqmQ69V8Qq"
      }
    },
    {
      "cell_type": "markdown",
      "source": [
        "In this example we assume,\n",
        "\n",
        "$$ Θ = \\begin{Bmatrix} σ \\end{Bmatrix} =  \\begin{Bmatrix} 3.0 \\end{Bmatrix}  $$"
      ],
      "metadata": {
        "id": "DjAevqgBWA-_"
      }
    },
    {
      "cell_type": "markdown",
      "source": [
        "## Heston Stochastic Volatility Model\n",
        "\n",
        "The following formulas describe the movement of asset prices, where an asset's price and volatility follow random, Brownian motion processes.\n",
        "\n",
        "The five parameters for the Heston Model:\n",
        "* $κ$: rate of reversion to the long-term price variance\n",
        "* $θ$: long term price variance\n",
        "* $λ$: price of volatility risk\n",
        "* $ρ$: the corelation coefficent between both brownian motions\n",
        "* $\\text{v}_{0}$: initial point where you start variance"
      ],
      "metadata": {
        "id": "rhBXv7meWJz5"
      }
    },
    {
      "cell_type": "markdown",
      "source": [
        "$S_{t}$ follows the following SDE,\n",
        "\n",
        "$$ dS_{t} = (r-q)S_{t}dt + \\sqrt{\\text{v}_{t}}S_{t} dW_{t}^{(1)}$$"
      ],
      "metadata": {
        "id": "F0nwiW34WOmm"
      }
    },
    {
      "cell_type": "markdown",
      "source": [
        "$$ d\\text{v}_{t} = κ(θ-\\text{v}_{t})dt + λ\\sqrt{\\text{v}_{t}} dW_{t}^{(2)}$$"
      ],
      "metadata": {
        "id": "WZM7mQlQWSjG"
      }
    },
    {
      "cell_type": "markdown",
      "source": [
        "Characteristic Function of the log of the stock price,\n",
        "\n",
        "$$ ϕ(u) = \\frac{e^{ \\begin{Bmatrix} {iu \\space ln \\space S_{0} + iu(r-q)T + \\frac{κ \\space θ \\space T \\space (κ - \\space i \\space ρ \\space σ \\space u)\n",
        "}{σ^2}}\\end{Bmatrix}}}{(\\text{cosh} \\space \\frac{γ \\space T}{2}+ \\frac{κ-i \\space ρ \\space σ \\space u}{γ} \\space \\text{sinh} \\space \\frac{γ \\space T}{2})^{\\frac{2 \\space κ \\space θ}{σ^2}} } \\space * \\space e^{\\begin{Bmatrix} \\frac{-(u^2+iu) \\space v_{0}}{γ \\space \\text{coth}\\space \\frac{γ \\space T}{2} + \\space κ - \\space i \\space ρ \\space σ \\space u} \\end{Bmatrix}} $$"
      ],
      "metadata": {
        "id": "fahU1MZ5WVxp"
      }
    },
    {
      "cell_type": "markdown",
      "source": [
        "Where,\n",
        "\n",
        "$$ γ = \\sqrt{σ^2(u^2+iu) + (κ-i \\space ρ \\space σ \\space u )^2}$$"
      ],
      "metadata": {
        "id": "MHvDlnPQWjgq"
      }
    },
    {
      "cell_type": "markdown",
      "source": [
        "In this example we assume,\n",
        "\n",
        "$$ Θ = \\begin{Bmatrix} κ, θ, λ, ρ, \\text{v}_{0} \\end{Bmatrix} =  \\begin{Bmatrix} 2, 0.05, 0.3, -0.7, 0.04 \\end{Bmatrix}$$"
      ],
      "metadata": {
        "id": "e54OQGbyWpJo"
      }
    },
    {
      "cell_type": "markdown",
      "source": [
        "## Variance Gamma (VG) Model\n",
        "\n",
        "The VG process $X(t;σ, ν, θ)$ is obtained by evaluating a Brownian motion $W(t)$ with drift $ b(t; θ, \\nu) = θt + σW(t) $ at a random time given by a gamma process with unit mean rate, $ γ \\space (t:1, ν)$  \n",
        "\n",
        "The three parameters for the VG process:\n",
        "* $σ$: volatility of the brownian motion\n",
        "* $\\nu$: kurtosis, variance rate of the gamma time change\n",
        "* $θ$: skewness, drift of the Brownian motion with drift"
      ],
      "metadata": {
        "id": "Tw8g7qsnWzTZ"
      }
    },
    {
      "cell_type": "markdown",
      "source": [
        "$ S_{t} $ is given by,\n",
        "\n",
        "$$ S_{t} = S_{0} e^{(r-q+ ω)t + X(t;σ,ν,θ)} $$"
      ],
      "metadata": {
        "id": "00aDB1AwWzWq"
      }
    },
    {
      "cell_type": "markdown",
      "source": [
        "Characteristic function of the log of the stock price,\n",
        "\n",
        "$$ ϕ(ν) = e^{(iu(ln \\space S_{0}+(r-q)T)} \\Bigl (\\frac{1}{1-iuθν+σ^{2}u^{2}ν/2} \\Bigl )^{\\frac{T}{ν}}  $$"
      ],
      "metadata": {
        "id": "4jjYEAk2WzaB"
      }
    },
    {
      "cell_type": "markdown",
      "source": [
        "In this example we assume,\n",
        "\n",
        "$$ Θ = \\begin{Bmatrix} σ,\\nu, \\theta \\end{Bmatrix} =  \\begin{Bmatrix} 0.3, 0.5, -0.4 \\end{Bmatrix}$$"
      ],
      "metadata": {
        "id": "W3I1--aWXAQs"
      }
    },
    {
      "cell_type": "markdown",
      "source": [
        "---"
      ],
      "metadata": {
        "id": "CR4833VnXJHA"
      }
    },
    {
      "cell_type": "markdown",
      "source": [
        "Below is a function that computes the characteristic function of the log-stock price for three different models: Black Merton-Scholes, Heston, and Variance Gamma, each one contains different sets of parameters."
      ],
      "metadata": {
        "id": "JPAGy7MRXGSi"
      }
    },
    {
      "cell_type": "code",
      "source": [
        "def generic_CF(u, params, S0, r, q, T, model):\n",
        "    ''' Computes the characteristic function for different models (BMS, Heston, VG). '''\n",
        "\n",
        "    if (model == 'BMS'):\n",
        "        # unpack parameters\n",
        "        sig = params[0]\n",
        "        # characteristic function\n",
        "        mu = np.log(S0) + (r-q-sig**2/2)*T\n",
        "        a = sig*np.sqrt(T)\n",
        "        phi = np.exp(1j*mu*u-(a*u)**2/2)\n",
        "\n",
        "    elif(model == 'Heston'):\n",
        "        # unpack parameters\n",
        "        kappa  = params[0]\n",
        "        theta  = params[1]\n",
        "        sigma  = params[2]\n",
        "        rho    = params[3]\n",
        "        v0     = params[4]\n",
        "        # characteristic function\n",
        "        tmp = (kappa-1j*rho*sigma*u)\n",
        "        g = np.sqrt((sigma**2)*(u**2+1j*u)+tmp**2)\n",
        "        pow1 = 2*kappa*theta/(sigma**2)\n",
        "        numer1 = (kappa*theta*T*tmp)/(sigma**2) + 1j*u*T*r + 1j*u*np.log(S0)\n",
        "        log_denum1 = pow1 * np.log(np.cosh(g*T/2)+(tmp/g)*np.sinh(g*T/2))\n",
        "        tmp2 = ((u*u+1j*u)*v0)/(g/np.tanh(g*T/2)+tmp)\n",
        "        log_phi = numer1 - log_denum1 - tmp2\n",
        "        phi = np.exp(log_phi)\n",
        "\n",
        "    elif (model == 'VG'):\n",
        "        # unpack parameters\n",
        "        sigma  = params[0];\n",
        "        nu     = params[1];\n",
        "        theta  = params[2];\n",
        "        # characteristic function\n",
        "        if (nu == 0):\n",
        "            mu = np.log(S0) + (r-q - theta -0.5*sigma**2)*T\n",
        "            phi  = np.exp(1j*u*mu) * np.exp((1j*theta*u-0.5*sigma**2*u**2)*T)\n",
        "        else:\n",
        "            mu  = np.log(S0) + (r-q + np.log(1-theta*nu-0.5*sigma**2*nu)/nu)*T\n",
        "            phi = np.exp(1j*u*mu)*((1-1j*nu*theta*u+0.5*nu*sigma**2*u**2)**(-T/nu))\n",
        "\n",
        "    return phi"
      ],
      "metadata": {
        "id": "FqoYbd2_XLBM"
      },
      "execution_count": null,
      "outputs": []
    },
    {
      "cell_type": "markdown",
      "source": [
        "We now provide you with a function that uses FFT to price European option for any of the 3 models we have discussed. The same function works for both calls and puts. It return two vectors, one with the log-strikes and one with option prices."
      ],
      "metadata": {
        "id": "H-fZ0KKTXRWC"
      }
    },
    {
      "cell_type": "code",
      "source": [
        "def genericFFT(params, S0, K, r, q, T, alpha, eta, n, model):\n",
        "    ''' Option pricing using FFT (model-free). '''\n",
        "\n",
        "    N = 2**n\n",
        "\n",
        "    # step-size in log strike space\n",
        "    lda = (2 * np.pi / N) / eta\n",
        "\n",
        "    # choice of beta\n",
        "    #beta = np.log(S0)-N*lda/2 # the log strike we want is in the middle of the array\n",
        "    beta = np.log(K) # the log strike we want is the first element of the array\n",
        "\n",
        "    # forming vector x and strikes km for m=1,...,N\n",
        "    km = np.zeros(N)\n",
        "    xX = np.zeros(N)\n",
        "\n",
        "    # discount factor\n",
        "    df = np.exp(-r*T)\n",
        "\n",
        "    nuJ = np.arange(N) * eta\n",
        "    psi_nuJ = generic_CF(nuJ - (alpha + 1) * 1j, params, S0, r, q, T, model) / ((alpha + 1j*nuJ)*(alpha+1+1j*nuJ))\n",
        "\n",
        "    km = beta + lda * np.arange(N)\n",
        "    w = eta * np.ones(N)\n",
        "    w[0] = eta / 2\n",
        "    xX = np.exp(-1j * beta * nuJ) * df * psi_nuJ * w\n",
        "\n",
        "    yY = np.fft.fft(xX)\n",
        "    cT_km = np.zeros(N)\n",
        "    multiplier = np.exp(-alpha * km) / np.pi\n",
        "    cT_km = multiplier * np.real(yY)\n",
        "\n",
        "    return km, cT_km"
      ],
      "metadata": {
        "id": "567DGIgVXOTG"
      },
      "execution_count": null,
      "outputs": []
    },
    {
      "cell_type": "markdown",
      "source": [
        "Estimate a European put with the following parameters,"
      ],
      "metadata": {
        "id": "bN3yoCCmXYRw"
      }
    },
    {
      "cell_type": "code",
      "source": [
        "# parameters\n",
        "S0 = 100\n",
        "K = 80\n",
        "r = 0.05\n",
        "q = 0.01\n",
        "T = 1.0"
      ],
      "metadata": {
        "id": "kO3ykRX-XYx9"
      },
      "execution_count": null,
      "outputs": []
    },
    {
      "cell_type": "markdown",
      "source": [
        "For the 3 models, consider the same values of $\\alpha$, $\\eta$, and $n$,"
      ],
      "metadata": {
        "id": "mCzlVayCXcsQ"
      }
    },
    {
      "cell_type": "code",
      "source": [
        "# parameters for fft\n",
        "eta_vec = np.array([0.1, 0.25])\n",
        "n_vec = np.array([6, 10])\n",
        "alpha_vec = np.array([-1.01, -1.25, -1.5, -1.75, -2., -5.])\n",
        "num_prices = len(eta_vec) * len(n_vec) * len(alpha_vec)"
      ],
      "metadata": {
        "id": "DSE7WdgyXjCd"
      },
      "execution_count": null,
      "outputs": []
    },
    {
      "cell_type": "markdown",
      "source": [
        "Pricing function that given a model and the above parameters will compute the put price,"
      ],
      "metadata": {
        "id": "asuK7zAsXols"
      }
    },
    {
      "cell_type": "code",
      "source": [
        "def price_all_puts(params, S0, K, r, q, T, model, alpha_vec, eta_vec, n_vec):\n",
        "    num_prices = len(eta_vec) * len(n_vec) * len(alpha_vec)\n",
        "    # output is a matrix, the columns correspond to eta, n, alpha, and put price\n",
        "    put_matrix = np.zeros([num_prices, 4])\n",
        "    i = 0\n",
        "    for eta in eta_vec:\n",
        "        for n in n_vec:\n",
        "            for alpha in alpha_vec:\n",
        "                # pricing via fft\n",
        "                put = 0 # store here the put price\n",
        "\n",
        "                k_vec, option_vec = genericFFT(params, S0, K, r, q, T, alpha, eta, n, model)\n",
        "                put = option_vec[0] # only interested in one strike\n",
        "\n",
        "                put_matrix[i] = np.array([eta, n, alpha, put])\n",
        "                i += 1\n",
        "    return put_matrix"
      ],
      "metadata": {
        "id": "LymG0mY2Xn2L"
      },
      "execution_count": null,
      "outputs": []
    },
    {
      "cell_type": "markdown",
      "source": [
        "#### BMS\n"
      ],
      "metadata": {
        "id": "AwehpPoDXuvu"
      }
    },
    {
      "cell_type": "code",
      "source": [
        "# model-specific parameters\n",
        "mod = 'BMS'\n",
        "sig = 0.3\n",
        "params = [sig]"
      ],
      "metadata": {
        "id": "1DfHNgzEXva3"
      },
      "execution_count": null,
      "outputs": []
    },
    {
      "cell_type": "code",
      "source": [
        "start_time = time()\n",
        "bms_matrix = price_all_puts(params, S0, K, r, q, T, mod, alpha_vec, eta_vec, n_vec)\n",
        "end_time = time()\n",
        "print('Elapsed time (seconds): ' + str(end_time - start_time))"
      ],
      "metadata": {
        "colab": {
          "base_uri": "https://localhost:8080/"
        },
        "id": "S8kN9aFMXy8F",
        "outputId": "3de785d2-d1e4-485e-eec6-90fffd380b44"
      },
      "execution_count": null,
      "outputs": [
        {
          "output_type": "stream",
          "name": "stdout",
          "text": [
            "Elapsed time (seconds): 0.006446123123168945\n"
          ]
        }
      ]
    },
    {
      "cell_type": "code",
      "source": [
        "# print results in table form\n",
        "print('Model = ' + mod)\n",
        "print('eta\\tN\\talpha\\tput')\n",
        "for i in range(num_prices):\n",
        "    print('%.2f\\t2^%i\\t%.2f\\t%.4f' % (bms_matrix[i,0], bms_matrix[i,1], bms_matrix[i,2], bms_matrix[i,3]))"
      ],
      "metadata": {
        "colab": {
          "base_uri": "https://localhost:8080/"
        },
        "id": "Obhh0cOZX3Ei",
        "outputId": "688f04e8-a292-4fc0-b70d-fe7f8d0ec235"
      },
      "execution_count": null,
      "outputs": [
        {
          "output_type": "stream",
          "name": "stdout",
          "text": [
            "Model = BMS\n",
            "eta\tN\talpha\tput\n",
            "0.10\t2^6\t-1.01\t89.7431\n",
            "0.10\t2^6\t-1.25\t2.7396\n",
            "0.10\t2^6\t-1.50\t2.7569\n",
            "0.10\t2^6\t-1.75\t2.7701\n",
            "0.10\t2^6\t-2.00\t2.7789\n",
            "0.10\t2^6\t-5.00\t2.6727\n",
            "0.10\t2^10\t-1.01\t89.7316\n",
            "0.10\t2^10\t-1.25\t2.7080\n",
            "0.10\t2^10\t-1.50\t2.7080\n",
            "0.10\t2^10\t-1.75\t2.7080\n",
            "0.10\t2^10\t-2.00\t2.7080\n",
            "0.10\t2^10\t-5.00\t2.7080\n",
            "0.25\t2^6\t-1.01\t269.0367\n",
            "0.25\t2^6\t-1.25\t2.8504\n",
            "0.25\t2^6\t-1.50\t2.7083\n",
            "0.25\t2^6\t-1.75\t2.7080\n",
            "0.25\t2^6\t-2.00\t2.7080\n",
            "0.25\t2^6\t-5.00\t2.7080\n",
            "0.25\t2^10\t-1.01\t269.0367\n",
            "0.25\t2^10\t-1.25\t2.8504\n",
            "0.25\t2^10\t-1.50\t2.7083\n",
            "0.25\t2^10\t-1.75\t2.7080\n",
            "0.25\t2^10\t-2.00\t2.7080\n",
            "0.25\t2^10\t-5.00\t2.7080\n"
          ]
        }
      ]
    },
    {
      "cell_type": "markdown",
      "source": [
        "#### Heston"
      ],
      "metadata": {
        "id": "2hiDD3EgX6Cv"
      }
    },
    {
      "cell_type": "code",
      "source": [
        "# model-specific parameters\n",
        "mod = 'Heston'\n",
        "kappa = 2.\n",
        "theta = 0.05\n",
        "lda = 0.3\n",
        "rho = -0.7\n",
        "v0 = 0.04\n",
        "params = [kappa, theta, lda, rho, v0]"
      ],
      "metadata": {
        "id": "aOGFkqRYX6qP"
      },
      "execution_count": null,
      "outputs": []
    },
    {
      "cell_type": "code",
      "source": [
        "start_time = time()\n",
        "heston_matrix = price_all_puts(params, S0, K, r, q, T, mod, alpha_vec, eta_vec, n_vec)\n",
        "end_time = time()\n",
        "print('Elapsed time (seconds): ' + str(end_time - start_time))"
      ],
      "metadata": {
        "colab": {
          "base_uri": "https://localhost:8080/"
        },
        "id": "L0IXCMLmX6_V",
        "outputId": "6f45634f-2e66-4dd6-b194-b7abac160f8d"
      },
      "execution_count": null,
      "outputs": [
        {
          "output_type": "stream",
          "name": "stdout",
          "text": [
            "Elapsed time (seconds): 0.009718894958496094\n"
          ]
        }
      ]
    },
    {
      "cell_type": "code",
      "source": [
        "# print results in table form\n",
        "print('Model = ' + mod)\n",
        "print('eta\\tN\\talpha\\tput')\n",
        "for i in range(num_prices):\n",
        "    print('%.2f\\t2^%i\\t%.2f\\t%.4f' % (heston_matrix[i,0], heston_matrix[i,1], heston_matrix[i,2], heston_matrix[i,3]))"
      ],
      "metadata": {
        "colab": {
          "base_uri": "https://localhost:8080/"
        },
        "id": "0JJ89ouaX7Dh",
        "outputId": "683b4c02-42b9-41c8-c1dc-63ab987470fc"
      },
      "execution_count": null,
      "outputs": [
        {
          "output_type": "stream",
          "name": "stdout",
          "text": [
            "Model = Heston\n",
            "eta\tN\talpha\tput\n",
            "0.10\t2^6\t-1.01\t88.0744\n",
            "0.10\t2^6\t-1.25\t1.1102\n",
            "0.10\t2^6\t-1.50\t1.1666\n",
            "0.10\t2^6\t-1.75\t1.2167\n",
            "0.10\t2^6\t-2.00\t1.2605\n",
            "0.10\t2^6\t-5.00\t1.3979\n",
            "0.10\t2^10\t-1.01\t88.3648\n",
            "0.10\t2^10\t-1.25\t1.3412\n",
            "0.10\t2^10\t-1.50\t1.3412\n",
            "0.10\t2^10\t-1.75\t1.3412\n",
            "0.10\t2^10\t-2.00\t1.3412\n",
            "0.10\t2^10\t-5.00\t1.3412\n",
            "0.25\t2^6\t-1.01\t267.6738\n",
            "0.25\t2^6\t-1.25\t1.4873\n",
            "0.25\t2^6\t-1.50\t1.3450\n",
            "0.25\t2^6\t-1.75\t1.3445\n",
            "0.25\t2^6\t-2.00\t1.3442\n",
            "0.25\t2^6\t-5.00\t1.3415\n",
            "0.25\t2^10\t-1.01\t267.6698\n",
            "0.25\t2^10\t-1.25\t1.4835\n",
            "0.25\t2^10\t-1.50\t1.3414\n",
            "0.25\t2^10\t-1.75\t1.3412\n",
            "0.25\t2^10\t-2.00\t1.3412\n",
            "0.25\t2^10\t-5.00\t1.3412\n"
          ]
        }
      ]
    },
    {
      "cell_type": "markdown",
      "source": [
        "#### Variance Gamma"
      ],
      "metadata": {
        "id": "zRGJlHWxYEo1"
      }
    },
    {
      "cell_type": "code",
      "source": [
        "# model-specific parameters\n",
        "mod = 'VG'\n",
        "sigma = 0.3\n",
        "nu = 0.5\n",
        "theta = -0.4\n",
        "params = [sigma, nu, theta]"
      ],
      "metadata": {
        "id": "Y8aBJi1QYFFo"
      },
      "execution_count": null,
      "outputs": []
    },
    {
      "cell_type": "code",
      "source": [
        "start_time = time()\n",
        "vg_matrix = price_all_puts(params, S0, K, r, q, T, mod, alpha_vec, eta_vec, n_vec)\n",
        "end_time = time()\n",
        "print('Elapsed time (seconds): ' + str(end_time - start_time))"
      ],
      "metadata": {
        "colab": {
          "base_uri": "https://localhost:8080/"
        },
        "id": "H-Tbz4iaYFJY",
        "outputId": "238c2807-b08a-41b9-8e1e-28956b4250f2"
      },
      "execution_count": null,
      "outputs": [
        {
          "output_type": "stream",
          "name": "stdout",
          "text": [
            "Elapsed time (seconds): 0.00450897216796875\n"
          ]
        }
      ]
    },
    {
      "cell_type": "code",
      "source": [
        "# print results in table form\n",
        "print('Model = ' + mod)\n",
        "print('eta\\tN\\talpha\\tput')\n",
        "for i in range(num_prices):\n",
        "    print('%.2f\\t2^%i\\t%.2f\\t%.4f' % (vg_matrix[i,0], vg_matrix[i,1], vg_matrix[i,2], vg_matrix[i,3]))"
      ],
      "metadata": {
        "colab": {
          "base_uri": "https://localhost:8080/"
        },
        "id": "z_EPGu9xYFM3",
        "outputId": "95c8ad62-77fe-4a5c-9e6e-008c5750a24a"
      },
      "execution_count": null,
      "outputs": [
        {
          "output_type": "stream",
          "name": "stdout",
          "text": [
            "Model = VG\n",
            "eta\tN\talpha\tput\n",
            "0.10\t2^6\t-1.01\t92.2103\n",
            "0.10\t2^6\t-1.25\t5.2047\n",
            "0.10\t2^6\t-1.50\t5.2230\n",
            "0.10\t2^6\t-1.75\t5.2401\n",
            "0.10\t2^6\t-2.00\t5.2556\n",
            "0.10\t2^6\t-5.00\t0.0030\n",
            "0.10\t2^10\t-1.01\t92.3373\n",
            "0.10\t2^10\t-1.25\t5.3137\n",
            "0.10\t2^10\t-1.50\t5.3137\n",
            "0.10\t2^10\t-1.75\t5.3137\n",
            "0.10\t2^10\t-2.00\t5.3137\n",
            "0.10\t2^10\t-5.00\t0.0000\n",
            "0.25\t2^6\t-1.01\t271.6399\n",
            "0.25\t2^6\t-1.25\t5.4539\n",
            "0.25\t2^6\t-1.50\t5.3121\n",
            "0.25\t2^6\t-1.75\t5.3122\n",
            "0.25\t2^6\t-2.00\t5.3124\n",
            "0.25\t2^6\t-5.00\t0.0019\n",
            "0.25\t2^10\t-1.01\t271.6423\n",
            "0.25\t2^10\t-1.25\t5.4560\n",
            "0.25\t2^10\t-1.50\t5.3139\n",
            "0.25\t2^10\t-1.75\t5.3137\n",
            "0.25\t2^10\t-2.00\t5.3137\n",
            "0.25\t2^10\t-5.00\t0.0020\n"
          ]
        }
      ]
    }
  ]
}